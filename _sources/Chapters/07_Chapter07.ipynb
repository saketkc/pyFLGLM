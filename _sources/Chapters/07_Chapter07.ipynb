{
  "nbformat": 4,
  "nbformat_minor": 0,
  "metadata": {
    "colab": {
      "name": "07_Chapter07.ipynb",
      "provenance": [],
      "collapsed_sections": [],
      "toc_visible": true,
      "authorship_tag": "ABX9TyP5Cl8BssNBUc6EdsOqBKs7",
      "include_colab_link": true
    },
    "kernelspec": {
      "name": "python3",
      "display_name": "Python 3"
    }
  },
  "cells": [
    {
      "cell_type": "markdown",
      "metadata": {
        "id": "view-in-github",
        "colab_type": "text"
      },
      "source": [
        "<a href=\"https://colab.research.google.com/github/saketkc/pyFLGLM/blob/master/Chapters/07_Chapter07.ipynb\" target=\"_parent\"><img src=\"https://colab.research.google.com/assets/colab-badge.svg\" alt=\"Open In Colab\"/></a>"
      ]
    },
    {
      "cell_type": "markdown",
      "metadata": {
        "id": "fwh-ZLW51_46",
        "colab_type": "text"
      },
      "source": [
        "## Chapter 7 - Models for Count Data"
      ]
    },
    {
      "cell_type": "code",
      "metadata": {
        "id": "nOievhFw2KjK",
        "colab_type": "code",
        "colab": {}
      },
      "source": [
        "!pip install proplot"
      ],
      "execution_count": null,
      "outputs": []
    },
    {
      "cell_type": "code",
      "metadata": {
        "id": "cI4B-nT52DAa",
        "colab_type": "code",
        "colab": {
          "base_uri": "https://localhost:8080/",
          "height": 34
        },
        "outputId": "02ce682a-cc13-4090-ac9d-bc7e02202f73"
      },
      "source": [
        "import warnings\n",
        "\n",
        "import pandas as pd\n",
        "import proplot as plot\n",
        "import seaborn as sns\n",
        "import statsmodels\n",
        "import statsmodels.api as sm\n",
        "import statsmodels.formula.api as smf\n",
        "from patsy import dmatrices\n",
        "from scipy import stats\n",
        "\n",
        "warnings.filterwarnings(\"ignore\")\n",
        "%pylab inline\n",
        "\n",
        "\n",
        "plt.rcParams[\"axes.labelweight\"] = \"bold\"\n",
        "plt.rcParams[\"font.weight\"] = \"bold\""
      ],
      "execution_count": null,
      "outputs": [
        {
          "output_type": "stream",
          "text": [
            "Populating the interactive namespace from numpy and matplotlib\n"
          ],
          "name": "stdout"
        }
      ]
    },
    {
      "cell_type": "code",
      "metadata": {
        "id": "nc6cJEGT3SrV",
        "colab_type": "code",
        "colab": {
          "base_uri": "https://localhost:8080/",
          "height": 204
        },
        "outputId": "67b95e39-b7a5-4d08-f8b4-9710c05e8071"
      },
      "source": [
        "cancer_df = pd.read_csv(\"https://github.com/saketkc/pyFLGLM/blob/master/data/Cancer.tsv.gz?raw=true\", compression=\"gzip\", sep=\"\\t\")\n",
        "cancer_df.head()"
      ],
      "execution_count": null,
      "outputs": [
        {
          "output_type": "execute_result",
          "data": {
            "text/html": [
              "<div>\n",
              "<style scoped>\n",
              "    .dataframe tbody tr th:only-of-type {\n",
              "        vertical-align: middle;\n",
              "    }\n",
              "\n",
              "    .dataframe tbody tr th {\n",
              "        vertical-align: top;\n",
              "    }\n",
              "\n",
              "    .dataframe thead th {\n",
              "        text-align: right;\n",
              "    }\n",
              "</style>\n",
              "<table border=\"1\" class=\"dataframe\">\n",
              "  <thead>\n",
              "    <tr style=\"text-align: right;\">\n",
              "      <th></th>\n",
              "      <th>time</th>\n",
              "      <th>histology</th>\n",
              "      <th>stage</th>\n",
              "      <th>count</th>\n",
              "      <th>risktime</th>\n",
              "    </tr>\n",
              "  </thead>\n",
              "  <tbody>\n",
              "    <tr>\n",
              "      <th>0</th>\n",
              "      <td>1</td>\n",
              "      <td>1</td>\n",
              "      <td>1</td>\n",
              "      <td>9</td>\n",
              "      <td>157</td>\n",
              "    </tr>\n",
              "    <tr>\n",
              "      <th>1</th>\n",
              "      <td>1</td>\n",
              "      <td>2</td>\n",
              "      <td>1</td>\n",
              "      <td>5</td>\n",
              "      <td>77</td>\n",
              "    </tr>\n",
              "    <tr>\n",
              "      <th>2</th>\n",
              "      <td>1</td>\n",
              "      <td>3</td>\n",
              "      <td>1</td>\n",
              "      <td>1</td>\n",
              "      <td>21</td>\n",
              "    </tr>\n",
              "    <tr>\n",
              "      <th>3</th>\n",
              "      <td>2</td>\n",
              "      <td>1</td>\n",
              "      <td>1</td>\n",
              "      <td>2</td>\n",
              "      <td>139</td>\n",
              "    </tr>\n",
              "    <tr>\n",
              "      <th>4</th>\n",
              "      <td>2</td>\n",
              "      <td>2</td>\n",
              "      <td>1</td>\n",
              "      <td>2</td>\n",
              "      <td>68</td>\n",
              "    </tr>\n",
              "  </tbody>\n",
              "</table>\n",
              "</div>"
            ],
            "text/plain": [
              "   time  histology  stage  count  risktime\n",
              "0     1          1      1      9       157\n",
              "1     1          2      1      5        77\n",
              "2     1          3      1      1        21\n",
              "3     2          1      1      2       139\n",
              "4     2          2      1      2        68"
            ]
          },
          "metadata": {
            "tags": []
          },
          "execution_count": 7
        }
      ]
    },
    {
      "cell_type": "code",
      "metadata": {
        "id": "mNT_dHgX7PIh",
        "colab_type": "code",
        "colab": {
          "base_uri": "https://localhost:8080/",
          "height": 459
        },
        "outputId": "e72f6ca0-fbc9-4a83-967a-e4dfaea5c2a1"
      },
      "source": [
        "cancer_df[\"logrisktime\"] = np.log(cancer_df[\"risktime\"])\n",
        "\n",
        "formula = \"\"\"count ~ C(histology) + C(stage) + C(time)\"\"\"\n",
        "response, predictors = dmatrices(formula, cancer_df, return_type=\"dataframe\")\n",
        "fit = sm.GLM(\n",
        "    response, predictors, family=sm.families.Poisson(link=sm.families.links.log()),\n",
        "    offset=cancer_df[\"logrisktime\"]\n",
        ").fit()\n",
        "print(fit.summary())\n"
      ],
      "execution_count": null,
      "outputs": [
        {
          "output_type": "stream",
          "text": [
            "                 Generalized Linear Model Regression Results                  \n",
            "==============================================================================\n",
            "Dep. Variable:                  count   No. Observations:                   63\n",
            "Model:                            GLM   Df Residuals:                       52\n",
            "Model Family:                 Poisson   Df Model:                           10\n",
            "Link Function:                    log   Scale:                          1.0000\n",
            "Method:                          IRLS   Log-Likelihood:                -114.87\n",
            "Date:                Sun, 09 Aug 2020   Deviance:                       43.923\n",
            "Time:                        20:35:58   Pearson chi2:                     43.1\n",
            "No. Iterations:                     5                                         \n",
            "Covariance Type:            nonrobust                                         \n",
            "=====================================================================================\n",
            "                        coef    std err          z      P>|z|      [0.025      0.975]\n",
            "-------------------------------------------------------------------------------------\n",
            "Intercept            -3.0093      0.167    -18.073      0.000      -3.336      -2.683\n",
            "C(histology)[T.2]     0.1624      0.122      1.332      0.183      -0.077       0.401\n",
            "C(histology)[T.3]     0.1075      0.147      0.729      0.466      -0.181       0.397\n",
            "C(stage)[T.2]         0.4700      0.174      2.694      0.007       0.128       0.812\n",
            "C(stage)[T.3]         1.3243      0.152      8.709      0.000       1.026       1.622\n",
            "C(time)[T.2]         -0.1275      0.149     -0.855      0.393      -0.420       0.165\n",
            "C(time)[T.3]         -0.0797      0.164     -0.488      0.626      -0.400       0.241\n",
            "C(time)[T.4]          0.1189      0.171      0.695      0.487      -0.216       0.454\n",
            "C(time)[T.5]         -0.6651      0.261     -2.552      0.011      -1.176      -0.154\n",
            "C(time)[T.6]         -0.3502      0.243     -1.438      0.150      -0.827       0.127\n",
            "C(time)[T.7]         -0.1752      0.250     -0.701      0.483      -0.665       0.315\n",
            "=====================================================================================\n"
          ],
          "name": "stdout"
        }
      ]
    },
    {
      "cell_type": "markdown",
      "metadata": {
        "id": "sJkL6KCt8XRN",
        "colab_type": "text"
      },
      "source": [
        "The increasing coefficients with stage reflect the higher mortality with stage. Stage 3 mortalites are $exp(1.324) = 3.76$ times higher than staeg 1."
      ]
    },
    {
      "cell_type": "code",
      "metadata": {
        "id": "t_gxgUKc8lfc",
        "colab_type": "code",
        "colab": {
          "base_uri": "https://localhost:8080/",
          "height": 297
        },
        "outputId": "190e7e69-8568-4b50-bcae-6acc4c52373e"
      },
      "source": [
        "drugs_df = pd.read_csv(\"https://github.com/saketkc/pyFLGLM/blob/master/data/Drugs.tsv.gz?raw=true\", compression=\"gzip\", sep=\"\\t\")\n",
        "drugs_df = drugs_df.rename(columns={\"A\": \"alc\", \"C\": \"cig\", \"M\": \"mar\"})\n",
        "drugs_df"
      ],
      "execution_count": null,
      "outputs": [
        {
          "output_type": "execute_result",
          "data": {
            "text/html": [
              "<div>\n",
              "<style scoped>\n",
              "    .dataframe tbody tr th:only-of-type {\n",
              "        vertical-align: middle;\n",
              "    }\n",
              "\n",
              "    .dataframe tbody tr th {\n",
              "        vertical-align: top;\n",
              "    }\n",
              "\n",
              "    .dataframe thead th {\n",
              "        text-align: right;\n",
              "    }\n",
              "</style>\n",
              "<table border=\"1\" class=\"dataframe\">\n",
              "  <thead>\n",
              "    <tr style=\"text-align: right;\">\n",
              "      <th></th>\n",
              "      <th>alc</th>\n",
              "      <th>cig</th>\n",
              "      <th>mar</th>\n",
              "      <th>count</th>\n",
              "    </tr>\n",
              "  </thead>\n",
              "  <tbody>\n",
              "    <tr>\n",
              "      <th>0</th>\n",
              "      <td>yes</td>\n",
              "      <td>yes</td>\n",
              "      <td>yes</td>\n",
              "      <td>911</td>\n",
              "    </tr>\n",
              "    <tr>\n",
              "      <th>1</th>\n",
              "      <td>yes</td>\n",
              "      <td>yes</td>\n",
              "      <td>no</td>\n",
              "      <td>538</td>\n",
              "    </tr>\n",
              "    <tr>\n",
              "      <th>2</th>\n",
              "      <td>yes</td>\n",
              "      <td>no</td>\n",
              "      <td>yes</td>\n",
              "      <td>44</td>\n",
              "    </tr>\n",
              "    <tr>\n",
              "      <th>3</th>\n",
              "      <td>yes</td>\n",
              "      <td>no</td>\n",
              "      <td>no</td>\n",
              "      <td>456</td>\n",
              "    </tr>\n",
              "    <tr>\n",
              "      <th>4</th>\n",
              "      <td>no</td>\n",
              "      <td>yes</td>\n",
              "      <td>yes</td>\n",
              "      <td>3</td>\n",
              "    </tr>\n",
              "    <tr>\n",
              "      <th>5</th>\n",
              "      <td>no</td>\n",
              "      <td>yes</td>\n",
              "      <td>no</td>\n",
              "      <td>43</td>\n",
              "    </tr>\n",
              "    <tr>\n",
              "      <th>6</th>\n",
              "      <td>no</td>\n",
              "      <td>no</td>\n",
              "      <td>yes</td>\n",
              "      <td>2</td>\n",
              "    </tr>\n",
              "    <tr>\n",
              "      <th>7</th>\n",
              "      <td>no</td>\n",
              "      <td>no</td>\n",
              "      <td>no</td>\n",
              "      <td>279</td>\n",
              "    </tr>\n",
              "  </tbody>\n",
              "</table>\n",
              "</div>"
            ],
            "text/plain": [
              "   alc  cig  mar  count\n",
              "0  yes  yes  yes    911\n",
              "1  yes  yes   no    538\n",
              "2  yes   no  yes     44\n",
              "3  yes   no   no    456\n",
              "4   no  yes  yes      3\n",
              "5   no  yes   no     43\n",
              "6   no   no  yes      2\n",
              "7   no   no   no    279"
            ]
          },
          "metadata": {
            "tags": []
          },
          "execution_count": 27
        }
      ]
    },
    {
      "cell_type": "code",
      "metadata": {
        "id": "VZ7f0zKk9u5B",
        "colab_type": "code",
        "colab": {
          "base_uri": "https://localhost:8080/",
          "height": 340
        },
        "outputId": "bf7e41df-233d-4339-e7f3-fdb5cc624923"
      },
      "source": [
        "formula = \"\"\"count ~ C(alc) + C(cig) + C(mar)\"\"\"\n",
        "response, predictors = dmatrices(formula, drugs_df, return_type=\"dataframe\")\n",
        "mutual_indep = sm.GLM(\n",
        "    response, predictors, family=sm.families.Poisson(link=sm.families.links.log())).fit()\n",
        "print(mutual_indep.summary())\n",
        "\n"
      ],
      "execution_count": null,
      "outputs": [
        {
          "output_type": "stream",
          "text": [
            "                 Generalized Linear Model Regression Results                  \n",
            "==============================================================================\n",
            "Dep. Variable:                  count   No. Observations:                    8\n",
            "Model:                            GLM   Df Residuals:                        4\n",
            "Model Family:                 Poisson   Df Model:                            3\n",
            "Link Function:                    log   Scale:                          1.0000\n",
            "Method:                          IRLS   Log-Likelihood:                -667.53\n",
            "Date:                Sun, 09 Aug 2020   Deviance:                       1286.0\n",
            "Time:                        20:54:10   Pearson chi2:                 1.41e+03\n",
            "No. Iterations:                     5                                         \n",
            "Covariance Type:            nonrobust                                         \n",
            "=================================================================================\n",
            "                    coef    std err          z      P>|z|      [0.025      0.975]\n",
            "---------------------------------------------------------------------------------\n",
            "Intercept         4.1725      0.065     64.234      0.000       4.045       4.300\n",
            "C(alc)[T.yes]     1.7851      0.060     29.872      0.000       1.668       1.902\n",
            "C(cig)[T.yes]     0.6493      0.044     14.707      0.000       0.563       0.736\n",
            "C(mar)[T.yes]    -0.3154      0.042     -7.431      0.000      -0.399      -0.232\n",
            "=================================================================================\n"
          ],
          "name": "stdout"
        }
      ]
    },
    {
      "cell_type": "code",
      "metadata": {
        "id": "x4q21Yq9AJp_",
        "colab_type": "code",
        "colab": {
          "base_uri": "https://localhost:8080/",
          "height": 425
        },
        "outputId": "76613ffb-bb01-4e95-ac05-02b78b8deb5d"
      },
      "source": [
        "l = [\"yes\", \"no\"]\n",
        "formula = \"\"\"count ~ C(alc, levels=l) + C(cig, levels=l) + C(mar, levels=l) + C(alc, levels=l):C(cig, levels=l) + C(alc, levels=l):C(mar,levels=l) + C(cig,levels=l):C(mar,levels=l)\"\"\"\n",
        "response, predictors = dmatrices(formula, drugs_df, return_type=\"dataframe\")\n",
        "homo_association = sm.GLM(\n",
        "    response, predictors, family=sm.families.Poisson(link=sm.families.links.log())).fit()\n",
        "\n",
        "print(homo_association.summary())\n",
        "print('AIC: {}'.format(homo_association.aic))\n",
        "pearson_resid = homo_association.resid_pearson\n",
        "std_resid = homo_association.resid_response\n",
        "print(np.sum(pearson_resid**2))\n",
        "\n",
        "counts = drugs_df[\"count\"]"
      ],
      "execution_count": null,
      "outputs": [
        {
          "output_type": "stream",
          "text": [
            "                 Generalized Linear Model Regression Results                  \n",
            "==============================================================================\n",
            "Dep. Variable:                  count   No. Observations:                    8\n",
            "Model:                            GLM   Df Residuals:                        1\n",
            "Model Family:                 Poisson   Df Model:                            6\n",
            "Link Function:                    log   Scale:                          1.0000\n",
            "Method:                          IRLS   Log-Likelihood:                -24.709\n",
            "Date:                Sun, 09 Aug 2020   Deviance:                      0.37399\n",
            "Time:                        21:49:27   Pearson chi2:                    0.401\n",
            "No. Iterations:                     8                                         \n",
            "Covariance Type:            nonrobust                                         \n",
            "=================================================================================================================\n",
            "                                                    coef    std err          z      P>|z|      [0.025      0.975]\n",
            "-----------------------------------------------------------------------------------------------------------------\n",
            "Intercept                                         6.8139      0.033    205.699      0.000       6.749       6.879\n",
            "C(alc, levels=l)[T.no]                           -5.5283      0.452    -12.225      0.000      -6.415      -4.642\n",
            "C(cig, levels=l)[T.no]                           -3.0158      0.152    -19.891      0.000      -3.313      -2.719\n",
            "C(mar, levels=l)[T.no]                           -0.5249      0.054     -9.669      0.000      -0.631      -0.418\n",
            "C(alc, levels=l)[T.no]:C(cig, levels=l)[T.no]     2.0545      0.174     11.803      0.000       1.713       2.396\n",
            "C(alc, levels=l)[T.no]:C(mar, levels=l)[T.no]     2.9860      0.465      6.426      0.000       2.075       3.897\n",
            "C(cig, levels=l)[T.no]:C(mar, levels=l)[T.no]     2.8479      0.164     17.382      0.000       2.527       3.169\n",
            "=================================================================================================================\n",
            "AIC: 63.41741423176761\n",
            "0.40110051665258983\n"
          ],
          "name": "stdout"
        }
      ]
    },
    {
      "cell_type": "code",
      "metadata": {
        "id": "5ILzmZPqBiLH",
        "colab_type": "code",
        "colab": {
          "base_uri": "https://localhost:8080/",
          "height": 297
        },
        "outputId": "4033f466-880d-47e2-d638-461a672168f0"
      },
      "source": [
        "df = pd.DataFrame( np.vstack([counts.values,\n",
        "                              homo_association.fittedvalues, \n",
        "                              homo_association.resid_pearson, \n",
        "                              homo_association.resid_response])).T\n",
        "df.columns = [\"count\", \"fitted\", \"pearsonr_resid\", \"std_resid\"]\n",
        "df\n"
      ],
      "execution_count": null,
      "outputs": [
        {
          "output_type": "execute_result",
          "data": {
            "text/html": [
              "<div>\n",
              "<style scoped>\n",
              "    .dataframe tbody tr th:only-of-type {\n",
              "        vertical-align: middle;\n",
              "    }\n",
              "\n",
              "    .dataframe tbody tr th {\n",
              "        vertical-align: top;\n",
              "    }\n",
              "\n",
              "    .dataframe thead th {\n",
              "        text-align: right;\n",
              "    }\n",
              "</style>\n",
              "<table border=\"1\" class=\"dataframe\">\n",
              "  <thead>\n",
              "    <tr style=\"text-align: right;\">\n",
              "      <th></th>\n",
              "      <th>count</th>\n",
              "      <th>fitted</th>\n",
              "      <th>pearsonr_resid</th>\n",
              "      <th>std_resid</th>\n",
              "    </tr>\n",
              "  </thead>\n",
              "  <tbody>\n",
              "    <tr>\n",
              "      <th>0</th>\n",
              "      <td>911.0</td>\n",
              "      <td>910.38317</td>\n",
              "      <td>0.020443</td>\n",
              "      <td>0.61683</td>\n",
              "    </tr>\n",
              "    <tr>\n",
              "      <th>1</th>\n",
              "      <td>538.0</td>\n",
              "      <td>538.61683</td>\n",
              "      <td>-0.026578</td>\n",
              "      <td>-0.61683</td>\n",
              "    </tr>\n",
              "    <tr>\n",
              "      <th>2</th>\n",
              "      <td>44.0</td>\n",
              "      <td>44.61683</td>\n",
              "      <td>-0.092346</td>\n",
              "      <td>-0.61683</td>\n",
              "    </tr>\n",
              "    <tr>\n",
              "      <th>3</th>\n",
              "      <td>456.0</td>\n",
              "      <td>455.38317</td>\n",
              "      <td>0.028905</td>\n",
              "      <td>0.61683</td>\n",
              "    </tr>\n",
              "    <tr>\n",
              "      <th>4</th>\n",
              "      <td>3.0</td>\n",
              "      <td>3.61683</td>\n",
              "      <td>-0.324341</td>\n",
              "      <td>-0.61683</td>\n",
              "    </tr>\n",
              "    <tr>\n",
              "      <th>5</th>\n",
              "      <td>43.0</td>\n",
              "      <td>42.38317</td>\n",
              "      <td>0.094748</td>\n",
              "      <td>0.61683</td>\n",
              "    </tr>\n",
              "    <tr>\n",
              "      <th>6</th>\n",
              "      <td>2.0</td>\n",
              "      <td>1.38317</td>\n",
              "      <td>0.524479</td>\n",
              "      <td>0.61683</td>\n",
              "    </tr>\n",
              "    <tr>\n",
              "      <th>7</th>\n",
              "      <td>279.0</td>\n",
              "      <td>279.61683</td>\n",
              "      <td>-0.036888</td>\n",
              "      <td>-0.61683</td>\n",
              "    </tr>\n",
              "  </tbody>\n",
              "</table>\n",
              "</div>"
            ],
            "text/plain": [
              "   count     fitted  pearsonr_resid  std_resid\n",
              "0  911.0  910.38317        0.020443    0.61683\n",
              "1  538.0  538.61683       -0.026578   -0.61683\n",
              "2   44.0   44.61683       -0.092346   -0.61683\n",
              "3  456.0  455.38317        0.028905    0.61683\n",
              "4    3.0    3.61683       -0.324341   -0.61683\n",
              "5   43.0   42.38317        0.094748    0.61683\n",
              "6    2.0    1.38317        0.524479    0.61683\n",
              "7  279.0  279.61683       -0.036888   -0.61683"
            ]
          },
          "metadata": {
            "tags": []
          },
          "execution_count": 56
        }
      ]
    },
    {
      "cell_type": "code",
      "metadata": {
        "id": "Ey7KjDiWNQg-",
        "colab_type": "code",
        "colab": {}
      },
      "source": [
        "drugs2_df = pd.read_csv(\"https://github.com/saketkc/pyFLGLM/blob/master/data/Drugs2.tsv.gz?raw=true\", compression=\"gzip\", sep=\"\\t\")\n",
        "drugs2_df = drugs2_df.rename(columns={\"A\": \"alc\", \"C\": \"cig\"})\n",
        "drugs2_df[\"M_yes_byn\"] = drugs2_df[\"M_yes\"]/drugs2_df[\"n\"]"
      ],
      "execution_count": null,
      "outputs": []
    },
    {
      "cell_type": "code",
      "metadata": {
        "id": "yNlwHxZlNYW0",
        "colab_type": "code",
        "colab": {
          "base_uri": "https://localhost:8080/",
          "height": 323
        },
        "outputId": "4e19972a-4304-470f-f026-622c09c48c53"
      },
      "source": [
        "l = [\"yes\", \"no\"]\n",
        "\n",
        "#formula = \"\"\"M_yes/n ~ C(alc, levels=l) + C(cig, levels=l)\"\"\"\n",
        "#formula = \"\"\"I(M_yes/n) ~ C(alc) + C(cig)\"\"\"\n",
        "formula = \"\"\"M_yes_byn ~ C(alc) + C(cig)\"\"\"\n",
        "\n",
        "response, predictors = dmatrices(formula, drugs2_df, return_type=\"dataframe\")\n",
        "fit = sm.GLM(response, \n",
        "             predictors, \n",
        "             family=sm.families.Binomial(link=sm.families.links.logit()),\n",
        "             weights=drugs2_df[\"n\"]).fit()\n",
        "print(fit.summary())\n"
      ],
      "execution_count": null,
      "outputs": [
        {
          "output_type": "stream",
          "text": [
            "                 Generalized Linear Model Regression Results                  \n",
            "==============================================================================\n",
            "Dep. Variable:              M_yes_byn   No. Observations:                    4\n",
            "Model:                            GLM   Df Residuals:                        1\n",
            "Model Family:                Binomial   Df Model:                            2\n",
            "Link Function:                  logit   Scale:                          1.0000\n",
            "Method:                          IRLS   Log-Likelihood:               -0.86889\n",
            "Date:                Sun, 09 Aug 2020   Deviance:                    0.0017527\n",
            "Time:                        22:01:57   Pearson chi2:                  0.00204\n",
            "No. Iterations:                     6                                         \n",
            "Covariance Type:            nonrobust                                         \n",
            "=================================================================================\n",
            "                    coef    std err          z      P>|z|      [0.025      0.975]\n",
            "---------------------------------------------------------------------------------\n",
            "Intercept        -5.4367      5.314     -1.023      0.306     -15.853       4.979\n",
            "C(alc)[T.yes]     3.1326      4.304      0.728      0.467      -5.303      11.569\n",
            "C(cig)[T.yes]     2.8189      3.920      0.719      0.472      -4.865      10.502\n",
            "=================================================================================\n"
          ],
          "name": "stdout"
        }
      ]
    },
    {
      "cell_type": "markdown",
      "metadata": {
        "id": "ayvt7-6zQRXf",
        "colab_type": "text"
      },
      "source": [
        "### Section 7.5.1"
      ]
    },
    {
      "cell_type": "code",
      "metadata": {
        "id": "DheO86g8P11i",
        "colab_type": "code",
        "colab": {
          "base_uri": "https://localhost:8080/",
          "height": 204
        },
        "outputId": "13a46fe6-d0e9-42cb-f2cd-7daa27305964"
      },
      "source": [
        "crabs_df = pd.read_csv(\"https://github.com/saketkc/pyFLGLM/blob/master/data/Crabs.tsv.gz?raw=true\", compression=\"gzip\", sep=\"\\t\")\n",
        "crabs_df.head()"
      ],
      "execution_count": null,
      "outputs": [
        {
          "output_type": "execute_result",
          "data": {
            "text/html": [
              "<div>\n",
              "<style scoped>\n",
              "    .dataframe tbody tr th:only-of-type {\n",
              "        vertical-align: middle;\n",
              "    }\n",
              "\n",
              "    .dataframe tbody tr th {\n",
              "        vertical-align: top;\n",
              "    }\n",
              "\n",
              "    .dataframe thead th {\n",
              "        text-align: right;\n",
              "    }\n",
              "</style>\n",
              "<table border=\"1\" class=\"dataframe\">\n",
              "  <thead>\n",
              "    <tr style=\"text-align: right;\">\n",
              "      <th></th>\n",
              "      <th>crab</th>\n",
              "      <th>y</th>\n",
              "      <th>weight</th>\n",
              "      <th>width</th>\n",
              "      <th>color</th>\n",
              "      <th>spine</th>\n",
              "    </tr>\n",
              "  </thead>\n",
              "  <tbody>\n",
              "    <tr>\n",
              "      <th>1</th>\n",
              "      <td>1</td>\n",
              "      <td>8</td>\n",
              "      <td>3.05</td>\n",
              "      <td>28.3</td>\n",
              "      <td>2</td>\n",
              "      <td>3</td>\n",
              "    </tr>\n",
              "    <tr>\n",
              "      <th>2</th>\n",
              "      <td>2</td>\n",
              "      <td>0</td>\n",
              "      <td>1.55</td>\n",
              "      <td>22.5</td>\n",
              "      <td>3</td>\n",
              "      <td>3</td>\n",
              "    </tr>\n",
              "    <tr>\n",
              "      <th>3</th>\n",
              "      <td>3</td>\n",
              "      <td>9</td>\n",
              "      <td>2.30</td>\n",
              "      <td>26.0</td>\n",
              "      <td>1</td>\n",
              "      <td>1</td>\n",
              "    </tr>\n",
              "    <tr>\n",
              "      <th>4</th>\n",
              "      <td>4</td>\n",
              "      <td>0</td>\n",
              "      <td>2.10</td>\n",
              "      <td>24.8</td>\n",
              "      <td>3</td>\n",
              "      <td>3</td>\n",
              "    </tr>\n",
              "    <tr>\n",
              "      <th>5</th>\n",
              "      <td>5</td>\n",
              "      <td>4</td>\n",
              "      <td>2.60</td>\n",
              "      <td>26.0</td>\n",
              "      <td>3</td>\n",
              "      <td>3</td>\n",
              "    </tr>\n",
              "  </tbody>\n",
              "</table>\n",
              "</div>"
            ],
            "text/plain": [
              "   crab  y  weight  width  color  spine\n",
              "1     1  8    3.05   28.3      2      3\n",
              "2     2  0    1.55   22.5      3      3\n",
              "3     3  9    2.30   26.0      1      1\n",
              "4     4  0    2.10   24.8      3      3\n",
              "5     5  4    2.60   26.0      3      3"
            ]
          },
          "metadata": {
            "tags": []
          },
          "execution_count": 72
        }
      ]
    },
    {
      "cell_type": "code",
      "metadata": {
        "id": "_1feh43FQNau",
        "colab_type": "code",
        "colab": {
          "base_uri": "https://localhost:8080/",
          "height": 289
        },
        "outputId": "1576a137-0428-4486-fddb-70b94366e9d7"
      },
      "source": [
        "formula = \"\"\"y ~ 1\"\"\"\n",
        "\n",
        "response, predictors = dmatrices(formula, crabs_df, return_type=\"dataframe\")\n",
        "fit = sm.GLM(response, \n",
        "             predictors, \n",
        "             family=sm.families.Poisson(link=sm.families.links.log())).fit()\n",
        "print(fit.summary())\n"
      ],
      "execution_count": null,
      "outputs": [
        {
          "output_type": "stream",
          "text": [
            "                 Generalized Linear Model Regression Results                  \n",
            "==============================================================================\n",
            "Dep. Variable:                      y   No. Observations:                  173\n",
            "Model:                            GLM   Df Residuals:                      172\n",
            "Model Family:                 Poisson   Df Model:                            0\n",
            "Link Function:                    log   Scale:                          1.0000\n",
            "Method:                          IRLS   Log-Likelihood:                -494.04\n",
            "Date:                Sun, 09 Aug 2020   Deviance:                       632.79\n",
            "Time:                        22:06:20   Pearson chi2:                     584.\n",
            "No. Iterations:                     5                                         \n",
            "Covariance Type:            nonrobust                                         \n",
            "==============================================================================\n",
            "                 coef    std err          z      P>|z|      [0.025      0.975]\n",
            "------------------------------------------------------------------------------\n",
            "Intercept      1.0713      0.044     24.074      0.000       0.984       1.158\n",
            "==============================================================================\n"
          ],
          "name": "stdout"
        }
      ]
    },
    {
      "cell_type": "code",
      "metadata": {
        "id": "no4XMqaeQsB6",
        "colab_type": "code",
        "colab": {
          "base_uri": "https://localhost:8080/",
          "height": 306
        },
        "outputId": "531b9695-083c-443b-fd2c-e7e91e4c8f58"
      },
      "source": [
        "formula = \"\"\"y ~ 1\"\"\"\n",
        "\n",
        "response, predictors = dmatrices(formula, crabs_df, return_type=\"dataframe\")\n",
        "fit = sm.GLM(response, \n",
        "             predictors, \n",
        "             family=sm.families.NegativeBinomial(link=sm.families.links.log())).fit(scale='x2')\n",
        "#  (crabs_df[\"y\"].var()-crabs_df[\"y\"].mean())/(crabs_df[\"y\"].mean()**2)#- fit.mu             \n",
        "overdispersion = fit.pearson_chi2 / fit.df_resid\n",
        "print(fit.summary())\n",
        "\n",
        "print('Overdispersion: {}'.format(overdispersion))\n"
      ],
      "execution_count": null,
      "outputs": [
        {
          "output_type": "stream",
          "text": [
            "                 Generalized Linear Model Regression Results                  \n",
            "==============================================================================\n",
            "Dep. Variable:                      y   No. Observations:                  173\n",
            "Model:                            GLM   Df Residuals:                      172\n",
            "Model Family:        NegativeBinomial   Df Model:                            0\n",
            "Link Function:                    log   Scale:                         0.86643\n",
            "Method:                          IRLS   Log-Likelihood:                -444.42\n",
            "Date:                Sun, 09 Aug 2020   Deviance:                       224.93\n",
            "Time:                        22:52:01   Pearson chi2:                     149.\n",
            "No. Iterations:                     7                                         \n",
            "Covariance Type:            nonrobust                                         \n",
            "==============================================================================\n",
            "                 coef    std err          z      P>|z|      [0.025      0.975]\n",
            "------------------------------------------------------------------------------\n",
            "Intercept      1.0713      0.082     13.064      0.000       0.911       1.232\n",
            "==============================================================================\n",
            "Overdispersion: 0.8664294490778556\n"
          ],
          "name": "stdout"
        }
      ]
    },
    {
      "cell_type": "code",
      "metadata": {
        "id": "621h0O7hgr7j",
        "colab_type": "code",
        "colab": {
          "base_uri": "https://localhost:8080/",
          "height": 357
        },
        "outputId": "048544b9-3e1b-4c83-f2c7-270a95803d4f"
      },
      "source": [
        "import statsmodels.discrete.count_model as cm\n",
        "formula = \"\"\"y ~ 1\"\"\"\n",
        "\n",
        "response, predictors = dmatrices(formula, crabs_df, return_type=\"dataframe\")\n",
        "\n",
        "fit = cm.ZeroInflatedPoisson(response, \n",
        "                             predictors).fit()\n",
        "print(fit.summary())"
      ],
      "execution_count": null,
      "outputs": [
        {
          "output_type": "stream",
          "text": [
            "Optimization terminated successfully.\n",
            "         Current function value: 2.205865\n",
            "         Iterations: 6\n",
            "         Function evaluations: 8\n",
            "         Gradient evaluations: 8\n",
            "                     ZeroInflatedPoisson Regression Results                    \n",
            "===============================================================================\n",
            "Dep. Variable:                       y   No. Observations:                  173\n",
            "Model:             ZeroInflatedPoisson   Df Residuals:                      172\n",
            "Method:                            MLE   Df Model:                            0\n",
            "Date:                 Sun, 09 Aug 2020   Pseudo R-squ.:               2.817e-11\n",
            "Time:                         23:33:48   Log-Likelihood:                -381.61\n",
            "converged:                        True   LL-Null:                       -381.61\n",
            "Covariance Type:             nonrobust   LLR p-value:                       nan\n",
            "=================================================================================\n",
            "                    coef    std err          z      P>|z|      [0.025      0.975]\n",
            "---------------------------------------------------------------------------------\n",
            "inflate_const    -0.6139      0.162     -3.794      0.000      -0.931      -0.297\n",
            "Intercept         1.5038      0.046     32.956      0.000       1.414       1.593\n",
            "=================================================================================\n"
          ],
          "name": "stdout"
        }
      ]
    },
    {
      "cell_type": "code",
      "metadata": {
        "id": "ENOm3b60Tq0n",
        "colab_type": "code",
        "colab": {
          "base_uri": "https://localhost:8080/",
          "height": 374
        },
        "outputId": "69fec62f-508e-448f-a03f-1dc0b849cf50"
      },
      "source": [
        "import statsmodels.discrete.count_model as cm\n",
        "formula = \"\"\"y ~ 1\"\"\"\n",
        "\n",
        "response, predictors = dmatrices(formula, crabs_df, return_type=\"dataframe\")\n",
        "\n",
        "fit = cm.ZeroInflatedNegativeBinomialP(response, \n",
        "                                                           predictors, \n",
        "                                                           p=2).fit()\n",
        "print(fit.summary())"
      ],
      "execution_count": null,
      "outputs": [
        {
          "output_type": "stream",
          "text": [
            "Optimization terminated successfully.\n",
            "         Current function value: 2.134980\n",
            "         Iterations: 12\n",
            "         Function evaluations: 13\n",
            "         Gradient evaluations: 13\n",
            "                     ZeroInflatedNegativeBinomialP Regression Results                    \n",
            "=========================================================================================\n",
            "Dep. Variable:                                 y   No. Observations:                  173\n",
            "Model:             ZeroInflatedNegativeBinomialP   Df Residuals:                      172\n",
            "Method:                                      MLE   Df Model:                            0\n",
            "Date:                           Sun, 09 Aug 2020   Pseudo R-squ.:               3.957e-11\n",
            "Time:                                   23:35:03   Log-Likelihood:                -369.35\n",
            "converged:                                  True   LL-Null:                       -369.35\n",
            "Covariance Type:                       nonrobust   LLR p-value:                       nan\n",
            "=================================================================================\n",
            "                    coef    std err          z      P>|z|      [0.025      0.975]\n",
            "---------------------------------------------------------------------------------\n",
            "inflate_const    -0.7279      0.183     -3.973      0.000      -1.087      -0.369\n",
            "Intercept         1.4653      0.068     21.440      0.000       1.331       1.599\n",
            "alpha             0.2242      0.078      2.864      0.004       0.071       0.378\n",
            "=================================================================================\n"
          ],
          "name": "stdout"
        }
      ]
    },
    {
      "cell_type": "code",
      "metadata": {
        "id": "wnJyKE2lls7Y",
        "colab_type": "code",
        "colab": {
          "base_uri": "https://localhost:8080/",
          "height": 408
        },
        "outputId": "4b4ebef3-dac7-46b6-9e12-36710c3339fa"
      },
      "source": [
        "formula = \"\"\"y ~ weight + color\"\"\"\n",
        "\n",
        "response, predictors = dmatrices(formula, crabs_df, return_type=\"dataframe\")\n",
        "\n",
        "fit = cm.ZeroInflatedNegativeBinomialP(response, \n",
        "                                       predictors).fit()\n",
        "print(fit.summary())"
      ],
      "execution_count": null,
      "outputs": [
        {
          "output_type": "stream",
          "text": [
            "Optimization terminated successfully.\n",
            "         Current function value: 2.115471\n",
            "         Iterations: 19\n",
            "         Function evaluations: 22\n",
            "         Gradient evaluations: 22\n",
            "                     ZeroInflatedNegativeBinomialP Regression Results                    \n",
            "=========================================================================================\n",
            "Dep. Variable:                                 y   No. Observations:                  173\n",
            "Model:             ZeroInflatedNegativeBinomialP   Df Residuals:                      170\n",
            "Method:                                      MLE   Df Model:                            2\n",
            "Date:                           Sun, 09 Aug 2020   Pseudo R-squ.:                0.009138\n",
            "Time:                                   23:41:48   Log-Likelihood:                -365.98\n",
            "converged:                                  True   LL-Null:                       -369.35\n",
            "Covariance Type:                       nonrobust   LLR p-value:                   0.03421\n",
            "=================================================================================\n",
            "                    coef    std err          z      P>|z|      [0.025      0.975]\n",
            "---------------------------------------------------------------------------------\n",
            "inflate_const    -0.8296      0.219     -3.792      0.000      -1.258      -0.401\n",
            "Intercept         0.7198      0.429      1.678      0.093      -0.121       1.560\n",
            "weight            0.3104      0.132      2.356      0.018       0.052       0.569\n",
            "color            -0.0423      0.099     -0.426      0.670      -0.237       0.152\n",
            "alpha             0.2434      0.092      2.641      0.008       0.063       0.424\n",
            "=================================================================================\n"
          ],
          "name": "stdout"
        }
      ]
    },
    {
      "cell_type": "code",
      "metadata": {
        "id": "bEf6pN1vmzhO",
        "colab_type": "code",
        "colab": {
          "base_uri": "https://localhost:8080/",
          "height": 323
        },
        "outputId": "a7ee4fcc-7b93-4060-8dc9-e56456e5e1ec"
      },
      "source": [
        "formula = \"\"\"y ~ weight + color\"\"\"\n",
        "\n",
        "response, predictors = dmatrices(formula, crabs_df, return_type=\"dataframe\")\n",
        "\n",
        "fit = sm.GLM(response, \n",
        "             predictors, \n",
        "             family=sm.families.NegativeBinomial(link=sm.families.links.log())).fit(scale='x2')\n",
        "print(fit.summary())"
      ],
      "execution_count": null,
      "outputs": [
        {
          "output_type": "stream",
          "text": [
            "                 Generalized Linear Model Regression Results                  \n",
            "==============================================================================\n",
            "Dep. Variable:                      y   No. Observations:                  173\n",
            "Model:                            GLM   Df Residuals:                      170\n",
            "Model Family:        NegativeBinomial   Df Model:                            2\n",
            "Link Function:                    log   Scale:                         0.95361\n",
            "Method:                          IRLS   Log-Likelihood:                -391.41\n",
            "Date:                Sun, 09 Aug 2020   Deviance:                       201.33\n",
            "Time:                        23:45:50   Pearson chi2:                     162.\n",
            "No. Iterations:                    15                                         \n",
            "Covariance Type:            nonrobust                                         \n",
            "==============================================================================\n",
            "                 coef    std err          z      P>|z|      [0.025      0.975]\n",
            "------------------------------------------------------------------------------\n",
            "Intercept     -0.3177      0.532     -0.597      0.550      -1.360       0.725\n",
            "weight         0.7055      0.155      4.561      0.000       0.402       1.009\n",
            "color         -0.1734      0.115     -1.505      0.132      -0.399       0.052\n",
            "==============================================================================\n"
          ],
          "name": "stdout"
        }
      ]
    }
  ]
}